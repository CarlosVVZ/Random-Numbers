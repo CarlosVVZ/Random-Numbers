{
  "nbformat": 4,
  "nbformat_minor": 0,
  "metadata": {
    "colab": {
      "name": "Random Numbers",
      "provenance": [],
      "authorship_tag": "ABX9TyNhPRlfbviIj3NROsj14s+H",
      "include_colab_link": true
    },
    "kernelspec": {
      "name": "python3",
      "display_name": "Python 3"
    },
    "language_info": {
      "name": "python"
    }
  },
  "cells": [
    {
      "cell_type": "markdown",
      "metadata": {
        "id": "view-in-github",
        "colab_type": "text"
      },
      "source": [
        "<a href=\"https://colab.research.google.com/github/CarlosVVZ/Random-Numbers/blob/main/Random_Numbers.ipynb\" target=\"_parent\"><img src=\"https://colab.research.google.com/assets/colab-badge.svg\" alt=\"Open In Colab\"/></a>"
      ]
    },
    {
      "cell_type": "code",
      "execution_count": 67,
      "metadata": {
        "colab": {
          "base_uri": "https://localhost:8080/"
        },
        "id": "flhuQ53_WzLJ",
        "outputId": "63d343b6-c5ee-4180-e7e5-e4b214b979b0"
      },
      "outputs": [
        {
          "output_type": "stream",
          "name": "stdout",
          "text": [
            "4713\n",
            "2123\n",
            "5071\n",
            "7150\n",
            "1225\n",
            "5006\n",
            "0600\n",
            "3600\n",
            "9600\n",
            "1600\n"
          ]
        }
      ],
      "source": [
        "def random_number(seed, size):\n",
        "\n",
        "  ''' \n",
        "  Returns a list of random numbers, it requires an initial value (seed) and a size for the list length\n",
        "  The number of digits of each element in the list will be equal to seed's length\n",
        "  '''\n",
        "  list = []\n",
        "  for iteration in range(size): \n",
        "    \n",
        "   \n",
        "    seed = str(seed);\n",
        "    seed_length = len(seed);\n",
        "\n",
        "    seed = int(seed)\n",
        "    seed = seed**2;\n",
        "    seed = str(seed);\n",
        "    #result_length = len(seed);\n",
        "\n",
        "\n",
        "    while(len(seed) < seed_length * 2):\n",
        "      seed = \"0\"+seed\n",
        "    inicio = True\n",
        "    while(len(seed) > seed_length):\n",
        "      if(inicio):\n",
        "        seed = seed[1:]\n",
        "        inicio = False\n",
        "      else:\n",
        "        seed = seed[:-1]\n",
        "        inicio = True\n",
        "    list.append(seed)\n",
        "\n",
        "  return list\n",
        "\n",
        "  \n",
        "seed = 1213\n",
        "size = 10\n",
        "numbers = random_number(seed, size)\n",
        "\n",
        "for number in numbers:\n",
        "  print(number)"
      ]
    }
  ]
}